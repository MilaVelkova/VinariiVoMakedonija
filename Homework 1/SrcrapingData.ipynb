{
  "nbformat": 4,
  "nbformat_minor": 0,
  "metadata": {
    "colab": {
      "provenance": []
    },
    "kernelspec": {
      "name": "python3",
      "display_name": "Python 3"
    },
    "language_info": {
      "name": "python"
    }
  },
  "cells": [
    {
      "cell_type": "markdown",
      "source": [
        "##<font color=\"lightgreen\">Scraping the winetourism website</font>##"
      ],
      "metadata": {
        "id": "LGWMc8gIRXF2"
      }
    },
    {
      "cell_type": "code",
      "execution_count": null,
      "metadata": {
        "id": "TUNbw680g1FZ"
      },
      "outputs": [],
      "source": [
        "#Import libraries that we will need\n",
        "import requests\n",
        "from bs4 import BeautifulSoup as bs"
      ]
    },
    {
      "cell_type": "code",
      "source": [
        "#Seting the url of the first page that we are going to scrape\n",
        "url=\"https://www.winetourism.com/wineries-in-north-macedonia/\""
      ],
      "metadata": {
        "id": "BjCklEV5hDDW"
      },
      "execution_count": null,
      "outputs": []
    },
    {
      "cell_type": "code",
      "source": [
        "#Getting the response from the web site\n",
        "response = requests.get(url)"
      ],
      "metadata": {
        "id": "pfeKlFO3hIKU"
      },
      "execution_count": null,
      "outputs": []
    },
    {
      "cell_type": "code",
      "source": [
        "#Checking if the websie allows us to scrape it by seeing the response. It is 200 so we are good to go\n",
        "response.status_code"
      ],
      "metadata": {
        "colab": {
          "base_uri": "https://localhost:8080/"
        },
        "id": "4ILwv-plhKTK",
        "outputId": "a887402f-eae1-44cf-c3e2-110fbf55fe51"
      },
      "execution_count": null,
      "outputs": [
        {
          "output_type": "execute_result",
          "data": {
            "text/plain": [
              "200"
            ]
          },
          "metadata": {},
          "execution_count": 4
        }
      ]
    },
    {
      "cell_type": "code",
      "source": [
        "#Beautifying the html so we can easily select the needed elements with Beautiful Soup\n",
        "raw_html = response.text\n",
        "beautified_html = bs(raw_html, 'html.parser')"
      ],
      "metadata": {
        "id": "8nzlpl4shNTq"
      },
      "execution_count": null,
      "outputs": []
    },
    {
      "cell_type": "code",
      "source": [
        "wine_card = beautified_html.select(\".blog-item\")"
      ],
      "metadata": {
        "id": "Th5LLkdsip3P"
      },
      "execution_count": null,
      "outputs": []
    },
    {
      "cell_type": "code",
      "source": [
        "#Extracting the data using css selectors with Beautiful Soup\n",
        "wine_card\n",
        "winary_card = beautified_html.select(\".blog-item .image-wrapper img\")\n",
        "winary_names = [item['alt'] for item in winary_card]\n",
        "\n",
        "root_url = \"https://www.winetourism.com/\"\n",
        "\n",
        "winary_images_links = [str(root_url[:-1]) + \"\" + str(item['src']) for item in winary_card]\n",
        "winary_names\n",
        "\n",
        "winary_description = beautified_html.select(\".blog-item .blog-content .blog-excerpt\")\n",
        "winary_description = [item.text.replace(\"\\n\", \"\") for item in winary_description]\n",
        "\n",
        "winary_description\n",
        "#Exctracted info: Winary names, Winary Description, Winary images links\n",
        "#Other data in the csv file is Coordinates and rating which is manually written for this particular dataset"
      ],
      "metadata": {
        "colab": {
          "base_uri": "https://localhost:8080/"
        },
        "id": "VV6-4Ww5itDV",
        "outputId": "2c48fa68-9d05-4a97-8739-26e4b19a45e0"
      },
      "execution_count": null,
      "outputs": [
        {
          "output_type": "execute_result",
          "data": {
            "text/plain": [
              "['Nature in a bottle at Zaharchev Winery and Distillery in Vardar River Valley',\n",
              " 'Discover The True Taste of Ohrid Wines',\n",
              " 'A Family Winery in Vardar River Valley',\n",
              " 'A long History in Wine-making Journey',\n",
              " 'Explore one of the largest Macedonian wineries, producing about 10 million liters of wine.',\n",
              " 'A full day of winemaking history, wine tasting, food and elegant surroundings.',\n",
              " 'Where Wines are Made with Love',\n",
              " 'The First Private Winery of Macedonia, Founded in 1998']"
            ]
          },
          "metadata": {},
          "execution_count": 7
        }
      ]
    },
    {
      "cell_type": "code",
      "source": [
        "import pandas as pd"
      ],
      "metadata": {
        "id": "m5k4Z9vcM-9h"
      },
      "execution_count": null,
      "outputs": []
    },
    {
      "cell_type": "code",
      "source": [
        "#Defining Data Frame so we can easily display and viasulize the data in table\n",
        "item_dict = dict()\n",
        "\n",
        "item_dict[\"Winary Name\"] = winary_names\n",
        "item_dict[\"Winary Description\"] = winary_description\n",
        "item_dict[\"Winary Image Link\"] = winary_images_links\n",
        "\n",
        "df = pd.DataFrame(item_dict)\n",
        "df"
      ],
      "metadata": {
        "id": "-hmQmSg0jWao",
        "colab": {
          "base_uri": "https://localhost:8080/",
          "height": 300
        },
        "outputId": "85d38170-ae5d-446d-e1b0-4230a7c0769d"
      },
      "execution_count": null,
      "outputs": [
        {
          "output_type": "execute_result",
          "data": {
            "text/plain": [
              "                        Winary Name  \\\n",
              "0  Zaharchev Winery and Distillery    \n",
              "1                  Monastery Winery   \n",
              "2             Family winery Peshkov   \n",
              "3                        S&S Winery   \n",
              "4                 Winery Imako Vino   \n",
              "5                     Tikveš Winery   \n",
              "6                     Kartal Winery   \n",
              "7                      Bovin Winery   \n",
              "\n",
              "                                  Winary Description  \\\n",
              "0  Nature in a bottle at Zaharchev Winery and Dis...   \n",
              "1             Discover The True Taste of Ohrid Wines   \n",
              "2             A Family Winery in Vardar River Valley   \n",
              "3              A long History in Wine-making Journey   \n",
              "4  Explore one of the largest Macedonian wineries...   \n",
              "5  A full day of winemaking history, wine tasting...   \n",
              "6                     Where Wines are Made with Love   \n",
              "7  The First Private Winery of Macedonia, Founded...   \n",
              "\n",
              "                                   Winary Image Link  \n",
              "0  https://www.winetourism.com/files/2023/07/head...  \n",
              "1  https://www.winetourism.com/files/2022/12/summ...  \n",
              "2  https://www.winetourism.com/files/2023/05/img_...  \n",
              "3  https://www.winetourism.com/files/2023/02/s_s_...  \n",
              "4  https://www.winetourism.com/files/2019/12/imak...  \n",
              "5  https://www.winetourism.com/files/2019/12/tikv...  \n",
              "6  https://www.winetourism.com/files/2022/07/slik...  \n",
              "7  https://www.winetourism.com/files/2022/07/bovi...  "
            ],
            "text/html": [
              "\n",
              "  <div id=\"df-eb530400-5432-48ac-8010-0ad800e045bb\" class=\"colab-df-container\">\n",
              "    <div>\n",
              "<style scoped>\n",
              "    .dataframe tbody tr th:only-of-type {\n",
              "        vertical-align: middle;\n",
              "    }\n",
              "\n",
              "    .dataframe tbody tr th {\n",
              "        vertical-align: top;\n",
              "    }\n",
              "\n",
              "    .dataframe thead th {\n",
              "        text-align: right;\n",
              "    }\n",
              "</style>\n",
              "<table border=\"1\" class=\"dataframe\">\n",
              "  <thead>\n",
              "    <tr style=\"text-align: right;\">\n",
              "      <th></th>\n",
              "      <th>Winary Name</th>\n",
              "      <th>Winary Description</th>\n",
              "      <th>Winary Image Link</th>\n",
              "    </tr>\n",
              "  </thead>\n",
              "  <tbody>\n",
              "    <tr>\n",
              "      <th>0</th>\n",
              "      <td>Zaharchev Winery and Distillery</td>\n",
              "      <td>Nature in a bottle at Zaharchev Winery and Dis...</td>\n",
              "      <td>https://www.winetourism.com/files/2023/07/head...</td>\n",
              "    </tr>\n",
              "    <tr>\n",
              "      <th>1</th>\n",
              "      <td>Monastery Winery</td>\n",
              "      <td>Discover The True Taste of Ohrid Wines</td>\n",
              "      <td>https://www.winetourism.com/files/2022/12/summ...</td>\n",
              "    </tr>\n",
              "    <tr>\n",
              "      <th>2</th>\n",
              "      <td>Family winery Peshkov</td>\n",
              "      <td>A Family Winery in Vardar River Valley</td>\n",
              "      <td>https://www.winetourism.com/files/2023/05/img_...</td>\n",
              "    </tr>\n",
              "    <tr>\n",
              "      <th>3</th>\n",
              "      <td>S&amp;S Winery</td>\n",
              "      <td>A long History in Wine-making Journey</td>\n",
              "      <td>https://www.winetourism.com/files/2023/02/s_s_...</td>\n",
              "    </tr>\n",
              "    <tr>\n",
              "      <th>4</th>\n",
              "      <td>Winery Imako Vino</td>\n",
              "      <td>Explore one of the largest Macedonian wineries...</td>\n",
              "      <td>https://www.winetourism.com/files/2019/12/imak...</td>\n",
              "    </tr>\n",
              "    <tr>\n",
              "      <th>5</th>\n",
              "      <td>Tikveš Winery</td>\n",
              "      <td>A full day of winemaking history, wine tasting...</td>\n",
              "      <td>https://www.winetourism.com/files/2019/12/tikv...</td>\n",
              "    </tr>\n",
              "    <tr>\n",
              "      <th>6</th>\n",
              "      <td>Kartal Winery</td>\n",
              "      <td>Where Wines are Made with Love</td>\n",
              "      <td>https://www.winetourism.com/files/2022/07/slik...</td>\n",
              "    </tr>\n",
              "    <tr>\n",
              "      <th>7</th>\n",
              "      <td>Bovin Winery</td>\n",
              "      <td>The First Private Winery of Macedonia, Founded...</td>\n",
              "      <td>https://www.winetourism.com/files/2022/07/bovi...</td>\n",
              "    </tr>\n",
              "  </tbody>\n",
              "</table>\n",
              "</div>\n",
              "    <div class=\"colab-df-buttons\">\n",
              "\n",
              "  <div class=\"colab-df-container\">\n",
              "    <button class=\"colab-df-convert\" onclick=\"convertToInteractive('df-eb530400-5432-48ac-8010-0ad800e045bb')\"\n",
              "            title=\"Convert this dataframe to an interactive table.\"\n",
              "            style=\"display:none;\">\n",
              "\n",
              "  <svg xmlns=\"http://www.w3.org/2000/svg\" height=\"24px\" viewBox=\"0 -960 960 960\">\n",
              "    <path d=\"M120-120v-720h720v720H120Zm60-500h600v-160H180v160Zm220 220h160v-160H400v160Zm0 220h160v-160H400v160ZM180-400h160v-160H180v160Zm440 0h160v-160H620v160ZM180-180h160v-160H180v160Zm440 0h160v-160H620v160Z\"/>\n",
              "  </svg>\n",
              "    </button>\n",
              "\n",
              "  <style>\n",
              "    .colab-df-container {\n",
              "      display:flex;\n",
              "      gap: 12px;\n",
              "    }\n",
              "\n",
              "    .colab-df-convert {\n",
              "      background-color: #E8F0FE;\n",
              "      border: none;\n",
              "      border-radius: 50%;\n",
              "      cursor: pointer;\n",
              "      display: none;\n",
              "      fill: #1967D2;\n",
              "      height: 32px;\n",
              "      padding: 0 0 0 0;\n",
              "      width: 32px;\n",
              "    }\n",
              "\n",
              "    .colab-df-convert:hover {\n",
              "      background-color: #E2EBFA;\n",
              "      box-shadow: 0px 1px 2px rgba(60, 64, 67, 0.3), 0px 1px 3px 1px rgba(60, 64, 67, 0.15);\n",
              "      fill: #174EA6;\n",
              "    }\n",
              "\n",
              "    .colab-df-buttons div {\n",
              "      margin-bottom: 4px;\n",
              "    }\n",
              "\n",
              "    [theme=dark] .colab-df-convert {\n",
              "      background-color: #3B4455;\n",
              "      fill: #D2E3FC;\n",
              "    }\n",
              "\n",
              "    [theme=dark] .colab-df-convert:hover {\n",
              "      background-color: #434B5C;\n",
              "      box-shadow: 0px 1px 3px 1px rgba(0, 0, 0, 0.15);\n",
              "      filter: drop-shadow(0px 1px 2px rgba(0, 0, 0, 0.3));\n",
              "      fill: #FFFFFF;\n",
              "    }\n",
              "  </style>\n",
              "\n",
              "    <script>\n",
              "      const buttonEl =\n",
              "        document.querySelector('#df-eb530400-5432-48ac-8010-0ad800e045bb button.colab-df-convert');\n",
              "      buttonEl.style.display =\n",
              "        google.colab.kernel.accessAllowed ? 'block' : 'none';\n",
              "\n",
              "      async function convertToInteractive(key) {\n",
              "        const element = document.querySelector('#df-eb530400-5432-48ac-8010-0ad800e045bb');\n",
              "        const dataTable =\n",
              "          await google.colab.kernel.invokeFunction('convertToInteractive',\n",
              "                                                    [key], {});\n",
              "        if (!dataTable) return;\n",
              "\n",
              "        const docLinkHtml = 'Like what you see? Visit the ' +\n",
              "          '<a target=\"_blank\" href=https://colab.research.google.com/notebooks/data_table.ipynb>data table notebook</a>'\n",
              "          + ' to learn more about interactive tables.';\n",
              "        element.innerHTML = '';\n",
              "        dataTable['output_type'] = 'display_data';\n",
              "        await google.colab.output.renderOutput(dataTable, element);\n",
              "        const docLink = document.createElement('div');\n",
              "        docLink.innerHTML = docLinkHtml;\n",
              "        element.appendChild(docLink);\n",
              "      }\n",
              "    </script>\n",
              "  </div>\n",
              "\n",
              "\n",
              "<div id=\"df-cf962573-5f9b-4f44-8da9-58bdc9ee86ad\">\n",
              "  <button class=\"colab-df-quickchart\" onclick=\"quickchart('df-cf962573-5f9b-4f44-8da9-58bdc9ee86ad')\"\n",
              "            title=\"Suggest charts.\"\n",
              "            style=\"display:none;\">\n",
              "\n",
              "<svg xmlns=\"http://www.w3.org/2000/svg\" height=\"24px\"viewBox=\"0 0 24 24\"\n",
              "     width=\"24px\">\n",
              "    <g>\n",
              "        <path d=\"M19 3H5c-1.1 0-2 .9-2 2v14c0 1.1.9 2 2 2h14c1.1 0 2-.9 2-2V5c0-1.1-.9-2-2-2zM9 17H7v-7h2v7zm4 0h-2V7h2v10zm4 0h-2v-4h2v4z\"/>\n",
              "    </g>\n",
              "</svg>\n",
              "  </button>\n",
              "\n",
              "<style>\n",
              "  .colab-df-quickchart {\n",
              "      --bg-color: #E8F0FE;\n",
              "      --fill-color: #1967D2;\n",
              "      --hover-bg-color: #E2EBFA;\n",
              "      --hover-fill-color: #174EA6;\n",
              "      --disabled-fill-color: #AAA;\n",
              "      --disabled-bg-color: #DDD;\n",
              "  }\n",
              "\n",
              "  [theme=dark] .colab-df-quickchart {\n",
              "      --bg-color: #3B4455;\n",
              "      --fill-color: #D2E3FC;\n",
              "      --hover-bg-color: #434B5C;\n",
              "      --hover-fill-color: #FFFFFF;\n",
              "      --disabled-bg-color: #3B4455;\n",
              "      --disabled-fill-color: #666;\n",
              "  }\n",
              "\n",
              "  .colab-df-quickchart {\n",
              "    background-color: var(--bg-color);\n",
              "    border: none;\n",
              "    border-radius: 50%;\n",
              "    cursor: pointer;\n",
              "    display: none;\n",
              "    fill: var(--fill-color);\n",
              "    height: 32px;\n",
              "    padding: 0;\n",
              "    width: 32px;\n",
              "  }\n",
              "\n",
              "  .colab-df-quickchart:hover {\n",
              "    background-color: var(--hover-bg-color);\n",
              "    box-shadow: 0 1px 2px rgba(60, 64, 67, 0.3), 0 1px 3px 1px rgba(60, 64, 67, 0.15);\n",
              "    fill: var(--button-hover-fill-color);\n",
              "  }\n",
              "\n",
              "  .colab-df-quickchart-complete:disabled,\n",
              "  .colab-df-quickchart-complete:disabled:hover {\n",
              "    background-color: var(--disabled-bg-color);\n",
              "    fill: var(--disabled-fill-color);\n",
              "    box-shadow: none;\n",
              "  }\n",
              "\n",
              "  .colab-df-spinner {\n",
              "    border: 2px solid var(--fill-color);\n",
              "    border-color: transparent;\n",
              "    border-bottom-color: var(--fill-color);\n",
              "    animation:\n",
              "      spin 1s steps(1) infinite;\n",
              "  }\n",
              "\n",
              "  @keyframes spin {\n",
              "    0% {\n",
              "      border-color: transparent;\n",
              "      border-bottom-color: var(--fill-color);\n",
              "      border-left-color: var(--fill-color);\n",
              "    }\n",
              "    20% {\n",
              "      border-color: transparent;\n",
              "      border-left-color: var(--fill-color);\n",
              "      border-top-color: var(--fill-color);\n",
              "    }\n",
              "    30% {\n",
              "      border-color: transparent;\n",
              "      border-left-color: var(--fill-color);\n",
              "      border-top-color: var(--fill-color);\n",
              "      border-right-color: var(--fill-color);\n",
              "    }\n",
              "    40% {\n",
              "      border-color: transparent;\n",
              "      border-right-color: var(--fill-color);\n",
              "      border-top-color: var(--fill-color);\n",
              "    }\n",
              "    60% {\n",
              "      border-color: transparent;\n",
              "      border-right-color: var(--fill-color);\n",
              "    }\n",
              "    80% {\n",
              "      border-color: transparent;\n",
              "      border-right-color: var(--fill-color);\n",
              "      border-bottom-color: var(--fill-color);\n",
              "    }\n",
              "    90% {\n",
              "      border-color: transparent;\n",
              "      border-bottom-color: var(--fill-color);\n",
              "    }\n",
              "  }\n",
              "</style>\n",
              "\n",
              "  <script>\n",
              "    async function quickchart(key) {\n",
              "      const quickchartButtonEl =\n",
              "        document.querySelector('#' + key + ' button');\n",
              "      quickchartButtonEl.disabled = true;  // To prevent multiple clicks.\n",
              "      quickchartButtonEl.classList.add('colab-df-spinner');\n",
              "      try {\n",
              "        const charts = await google.colab.kernel.invokeFunction(\n",
              "            'suggestCharts', [key], {});\n",
              "      } catch (error) {\n",
              "        console.error('Error during call to suggestCharts:', error);\n",
              "      }\n",
              "      quickchartButtonEl.classList.remove('colab-df-spinner');\n",
              "      quickchartButtonEl.classList.add('colab-df-quickchart-complete');\n",
              "    }\n",
              "    (() => {\n",
              "      let quickchartButtonEl =\n",
              "        document.querySelector('#df-cf962573-5f9b-4f44-8da9-58bdc9ee86ad button');\n",
              "      quickchartButtonEl.style.display =\n",
              "        google.colab.kernel.accessAllowed ? 'block' : 'none';\n",
              "    })();\n",
              "  </script>\n",
              "</div>\n",
              "    </div>\n",
              "  </div>\n"
            ]
          },
          "metadata": {},
          "execution_count": 9
        }
      ]
    },
    {
      "cell_type": "code",
      "source": [
        "#Exporting the data in csv file. csv is the format in which we are going to work.\n",
        "df.to_csv(\"winaries.csv\", index=False)"
      ],
      "metadata": {
        "id": "fbu2IknWNDgw"
      },
      "execution_count": null,
      "outputs": []
    },
    {
      "cell_type": "markdown",
      "source": [
        "###<font color=\"lightgreen\">Scraping images for displaying</font>###"
      ],
      "metadata": {
        "id": "nBLOL4SbMLQb"
      }
    },
    {
      "cell_type": "code",
      "source": [
        "import requests\n",
        "from bs4 import BeautifulSoup as bs\n",
        "\n",
        "images_url = \"https://unsplash.com/s/photos/wineries\"\n",
        "\n",
        "response = requests.get(images_url)\n",
        "response.status_code\n",
        "\n",
        "raw_html = response.text\n",
        "beautified_html = bs(raw_html, 'html.parser')\n",
        "\n",
        "images = beautified_html.select(\"img\")\n",
        "images = [item['src'] for item in images]\n",
        "images = [images[i] for i in range(len(images)) if i%2 == 0]\n",
        "images"
      ],
      "metadata": {
        "id": "0lVDhOxPNLgj",
        "colab": {
          "base_uri": "https://localhost:8080/"
        },
        "outputId": "3c69d3a5-62bb-4c65-f685-66e53353d8f2"
      },
      "execution_count": 7,
      "outputs": [
        {
          "output_type": "execute_result",
          "data": {
            "text/plain": [
              "['https://sb.scorecardresearch.com/p?c1=2&c2=32343279&cj=1&cv=2.0',\n",
              " 'https://media.istockphoto.com/id/978754758/photo/vineyard-sunset.webp?b=1&s=170667a&w=0&k=20&c=_bTgqoG3tmV98mjjelkIEsixblvG3lvOtb8K-zFV7_c=',\n",
              " 'https://media.istockphoto.com/id/504580551/photo/vineyard-at-sunset.webp?b=1&s=170667a&w=0&k=20&c=lAM1hIeTKW748vTvU1ikA2lnwoMdv83O1yo1bLBbJkk=',\n",
              " 'https://media.istockphoto.com/id/1301017778/photo/three-glasses-of-white-rose-and-red-wine-on-a-wooden-barrel.webp?b=1&s=170667a&w=0&k=20&c=hGN_yhhnS1BbLz4IoSaX0sx0RBbCJzskgaad6dyFkko=',\n",
              " 'https://media.istockphoto.com/id/1413751462/photo/grapevines-at-winery-south-of-barcelona.webp?b=1&s=170667a&w=0&k=20&c=mBmWqPPnk-LfLKRtlqBADCzElAef_eXhkuoMroW1ELQ=',\n",
              " 'https://media.istockphoto.com/id/526617675/photo/worker-filling-up-the-barrels.webp?b=1&s=170667a&w=0&k=20&c=tDULGRmsDtN9S-Pv38YsjuYzev9bS5o4kWBVUVEciKw=',\n",
              " 'https://media.istockphoto.com/id/1432586762/photo/farmer-on-vineyard-picking-grapes-from-vine-tree-plant-during-field-harvest-season-working-in.webp?b=1&s=170667a&w=0&k=20&c=BLs_a03I5ffz4SaLcsZF8_8Gq5fQABcdM3Iv2vU69rY=',\n",
              " 'https://media.istockphoto.com/id/124383028/photo/vineyard-over-stuttgart.webp?b=1&s=170667a&w=0&k=20&c=KPzRPfTKEGpHmoJO3yRHWqiCp3RcRCYSfE45i4OYNY8=',\n",
              " 'https://media.istockphoto.com/id/1456218011/photo/wine-glasses-and-barrels-in-the-wine-cellar.webp?b=1&s=170667a&w=0&k=20&c=fpJpFP3PxXxJhuo2ipLjPJb-QtryRTxFr7c6lfCUFbc=',\n",
              " 'https://media.istockphoto.com/id/1420776269/photo/travel-germany-moselle-wine-region.webp?b=1&s=170667a&w=0&k=20&c=HoXbCxniWC0HtWqcHGwbNUKMamrvR26Zl3Hle6mHbIU=',\n",
              " 'https://media.istockphoto.com/id/1314034344/photo/pouring-red-wine-into-the-glass.webp?b=1&s=170667a&w=0&k=20&c=KcFiW6cAPdeNcvN9Gci-vKPLFtcSfya6CG9nId740mM=',\n",
              " 'data:image/bmp;base64,Qk32BAAAAAAAADYAAAAoAAAACAAAAAgAAAABABgAAAAAAMAAAAATCwAAEwsAAAAAAAAAAAAAVWF0WWd/YXKVanSmcWysdV+jd1ePd1d4R2FkSGZvTXCEWHKVY2ubamCTaVmAY1lqUHFiT3VqUHx8Wn+KZ3qQbnGKam16X21oe5N+epaDfJuPgp2ZiZqejZSZiJGPf5KDrLqprr2tscK2tcS+uMHAt7y9tLq1sbqu193R2uDV4OXd4+jk4uXm3uDi3d3b3t7V8/Ts9/fw/v35/////vz/+ff8+PX2/Pbw/fz1///6//////////////////3///76',\n",
              " 'https://images.unsplash.com/profile-1502649403426-7c16842a7ff5?bg=fff&crop=faces&h=32&w=32&auto=format&fit=crop&q=60&ixlib=rb-4.0.3',\n",
              " 'https://images.unsplash.com/photo-1552712095-7bf5c609a1be?q=80&w=1000&auto=format&fit=crop&ixlib=rb-4.0.3&ixid=M3wxMjA3fDB8MHxzZWFyY2h8Mnx8d2luZXJpZXN8ZW58MHx8MHx8fDA%3D',\n",
              " 'data:image/bmp;base64,Qk32BAAAAAAAADYAAAAoAAAACAAAAAgAAAABABgAAAAAAMAAAAATCwAAEwsAAAAAAAAAAAAAmpuolJeki5CdjZOdnJ2jp6KlpJmal4eGlJmujZOngIeagoiYk5ahn56omZSehnuJkJq0hpGqdX6XdHyRiI6elpqpjpCjdHKPk5+5iJSucXyWa3SLfoeZj5epipKoc3mZn6m7k52weYSXanaIeYSTjJemkZmsiI6nrrO7oqmxh5GZcX+IeIWOj5ehn6SvpKe0ubu6rrKxk5yceYiIeoeJkpmcq62wubq9vr66s7axmKCdfIuJe4iIlJqar7CxwcDB',\n",
              " 'https://images.unsplash.com/profile-1686586982473-66932111d72eimage?bg=fff&crop=faces&h=32&w=32&auto=format&fit=crop&q=60&ixlib=rb-4.0.3',\n",
              " 'https://images.unsplash.com/photo-1558241665-f0512695d322?q=80&w=1000&auto=format&fit=crop&ixlib=rb-4.0.3&ixid=M3wxMjA3fDB8MHxzZWFyY2h8NHx8d2luZXJpZXN8ZW58MHx8MHx8fDA%3D',\n",
              " 'data:image/bmp;base64,Qk32BAAAAAAAADYAAAAoAAAACAAAAAgAAAABABgAAAAAAMAAAAATCwAAEwsAAAAAAAAAAAAAjqqvjqyzkbG7l7LAna2+nqi4mauzj7KxepaRe5qYgKCjh6Gpjpymj5eeiJuafKOacId0cYt9d5KNf5SVho+QhoyGfo+BcZeFhZJ8hpWEipuTkZ2alpqVlpeMjpmHhJ+LsLSqsLausrm2tru6ubq4ubiytLiuq7mt2tra2tvc2t3f3N7i393h39ze2trZ09jV9/X89vb89ff99vf++ff/+fX99fL47/Dy//////////////////////////v/+fj8',\n",
              " 'https://images.unsplash.com/profile-1498823807409-2551d3d368df?bg=fff&crop=faces&h=32&w=32&auto=format&fit=crop&q=60&ixlib=rb-4.0.3',\n",
              " 'https://images.unsplash.com/photo-1506377247377-2a5b3b417ebb?q=80&w=1000&auto=format&fit=crop&ixlib=rb-4.0.3&ixid=M3wxMjA3fDB8MHxzZWFyY2h8Nnx8d2luZXJpZXN8ZW58MHx8MHx8fDA%3D',\n",
              " 'data:image/bmp;base64,Qk32BAAAAAAAADYAAAAoAAAACAAAAAgAAAABABgAAAAAAMAAAAATCwAAEwsAAAAAAAAAAAAAhoGKhICJfXyFdnaAcHB6amp1Y2RwXGBsgoWNg4aNg4aOgISMen6GcHd/aHF6ZG94fIiOgIuQiI+ViZCVgoqQdYKIbHyDanyDdYeLfIuPh5GVipOXgo6SdYWJa4CFaoCFcIKEdYWIf4qNgoyOeoeJbn+CZHp9Ynp9bHl6bnp7cXx9cHt8a3d4YXFyWG1uVGttanBxaG9vYmxsXWhoWWRlVGFhTF1dQ1paaW1tZWpqXGRkU19eUFtbTllZRlZVOlFR',\n",
              " 'https://images.unsplash.com/profile-1688182688487-adb3fd46949d?bg=fff&crop=faces&h=32&w=32&auto=format&fit=crop&q=60&ixlib=rb-4.0.3',\n",
              " 'https://images.unsplash.com/photo-1580175253541-9f67458a3582?q=80&w=1000&auto=format&fit=crop&ixlib=rb-4.0.3&ixid=M3wxMjA3fDB8MHxzZWFyY2h8OHx8d2luZXJpZXN8ZW58MHx8MHx8fDA%3D',\n",
              " 'data:image/bmp;base64,Qk32BAAAAAAAADYAAAAoAAAACAAAAAgAAAABABgAAAAAAMAAAAATCwAAEwsAAAAAAAAAAAAAADFDAFdQfYVmtJ92zaZ806R90aV8z6t9AGBtAHBxd4x7qqGHw6qRzq6X07Oa1rqbAISRIIqSdJmUoKedu7Ooy7yz18S438u4Hp2tRqCseKisn7Oyu7++0MrI3tPN59nNS63BXrDAhLjBqcPFx87O3NjW59/Z7OPZYLXNb7rOksbQudLU2NzZ6uPd8Obe7ujdarnUesDVns/axt3e5ebg9unf9+re7+vdbbrWfcHYotLdy+Hh6+ni+uzg+uze7+vc',\n",
              " 'https://images.unsplash.com/profile-1547337835325-fed0a9a1140b?bg=fff&crop=faces&h=32&w=32&auto=format&fit=crop&q=60&ixlib=rb-4.0.3',\n",
              " 'https://images.unsplash.com/photo-1560286219-d2423ff764e2?q=80&w=1000&auto=format&fit=crop&ixlib=rb-4.0.3&ixid=M3wxMjA3fDB8MHxzZWFyY2h8MTB8fHdpbmVyaWVzfGVufDB8fDB8fHww',\n",
              " 'data:image/bmp;base64,Qk32BAAAAAAAADYAAAAoAAAACAAAAAgAAAABABgAAAAAAMAAAAATCwAAEwsAAAAAAAAAAAAAa42WeZSilqa6sLjPvcPWtb7NlaizY4mSSoOLXImVfJmslam/n7HFlay7dpiiQXyDAHl+K36HWYqbc5ereZ2vapekRoWNAG1xAHh4AHuASYSPZY2caJKfVo2VKX2AAGlnAIJ+M4SDYouQfZSbhJmfdpWYVYiFEHVuTZKLYpSPh5qao6Slrauro6mmhZuVVoh/bZ6Wf6Gaoaikv7OxzLu5xLq1pKyldZiOeKObiKWeq62oybi118G+z8C7r7Krf56T',\n",
              " 'https://images.unsplash.com/profile-1686586982473-66932111d72eimage?bg=fff&crop=faces&h=32&w=32&auto=format&fit=crop&q=60&ixlib=rb-4.0.3',\n",
              " 'https://images.unsplash.com/photo-1558138818-d44c4dea7a6a?q=80&w=1000&auto=format&fit=crop&ixlib=rb-4.0.3&ixid=M3wxMjA3fDB8MHxzZWFyY2h8MTJ8fHdpbmVyaWVzfGVufDB8fDB8fHww',\n",
              " 'data:image/bmp;base64,Qk32BAAAAAAAADYAAAAoAAAACAAAAAgAAAABABgAAAAAAMAAAAATCwAAEwsAAAAAAAAAAAAAZXuga36ceIaXhY+Yi5Kfhoufd3iPY11zaH6kcIKggIuZjpWck5qljpWpgoSedWyJaX+ndIOiiI2bl5mem6Crlp2zjY6shHibZnikc32gioqZmpien6Csmp22kY6yi3qkXmecbG+Yhn+TmI+anZapmJGzj4OuiHGgUEuOYFiMfG+KkICTloSikX2qh22jfVySQiKBVD2Ac16CiHGNj3KaimWffVKVcUCBOwB7Ty57b1d+hWqKjGmXh1mbeUOPazB6',\n",
              " 'https://images.unsplash.com/profile-1532543638851-1f703138ceea?bg=fff&crop=faces&h=32&w=32&auto=format&fit=crop&q=60&ixlib=rb-4.0.3',\n",
              " 'https://images.unsplash.com/photo-1517792844039-e52afb564132?q=80&w=1000&auto=format&fit=crop&ixlib=rb-4.0.3&ixid=M3wxMjA3fDB8MHxzZWFyY2h8MTR8fHdpbmVyaWVzfGVufDB8fDB8fHww',\n",
              " 'data:image/bmp;base64,Qk32BAAAAAAAADYAAAAoAAAACAAAAAgAAAABABgAAAAAAMAAAAATCwAAEwsAAAAAAAAAAAAAADBCDzZKID1UITpUGjJNIjpVO1NvUGqJHTBBIjZHKj9RLEFTKz5QLUBVOE1mQ1x4LjFAMDdFM0JONkhTOEhUN0dVNkhcNUxlNDI+NjlEOUZPPU5WPk9YPUtXOUhZNkhcMjM7NjtEPEpTP1JcPlFcPk5aQk9fSFVnKTM4MT5GPE5aPlNiOU9fO05eS1prXWp8HDQ2KkBIOlBfPFRnMkxhN01gU2J0bHmNFDQ1J0BIOVFhOlRpL0tiNkxhVWV4cX+T',\n",
              " 'https://images.unsplash.com/profile-1628021557609-7cc32fbbf539image?bg=fff&crop=faces&h=32&w=32&auto=format&fit=crop&q=60&ixlib=rb-4.0.3',\n",
              " 'https://images.unsplash.com/photo-1596991456771-234e380e63bd?q=80&w=1000&auto=format&fit=crop&ixlib=rb-4.0.3&ixid=M3wxMjA3fDB8MHxzZWFyY2h8MTZ8fHdpbmVyaWVzfGVufDB8fDB8fHww',\n",
              " 'data:image/bmp;base64,Qk32BAAAAAAAADYAAAAoAAAACAAAAAgAAAABABgAAAAAAMAAAAATCwAAEwsAAAAAAAAAAAAAOHKCO3eFP4CKPoWKNYWCKn91JXZoKXBfO3aNPnmOQ3+RQ4KQPICKMnp/LHNzLG9qPnmXQXqXRnyWR3uTQXiPOXKHMm59MGx0P3qbQXmYRXeURXOQQm+NO2uJNWmBMWl4PnaXP3STP2+KPmqDO2eCN2aCM2Z9MWZ1O3CNOW2GNWZ4MWFtL2FvL2N1L2R0LmJsOGqCNGZ5Kl5kIFpVH11aJWJmKmNpLGBiNmd9MWNzJFtbFldJFVxQIGJfKGNkK19d',\n",
              " 'https://images.unsplash.com/profile-1605673572326-a505312ea175image?bg=fff&crop=faces&h=32&w=32&auto=format&fit=crop&q=60&ixlib=rb-4.0.3',\n",
              " 'https://images.unsplash.com/photo-1605718315811-712fd8297140?q=80&w=1000&auto=format&fit=crop&ixlib=rb-4.0.3&ixid=M3wxMjA3fDB8MHxzZWFyY2h8MTh8fHdpbmVyaWVzfGVufDB8fDB8fHww',\n",
              " 'data:image/bmp;base64,Qk32BAAAAAAAADYAAAAoAAAACAAAAAgAAAABABgAAAAAAMAAAAATCwAAEwsAAAAAAAAAAAAAAGJIAFhCAD8zACUnAC4tAEg7AFlFAGFJdpaOdI6Ja3l7XmBpTlNdQV5hPXRvP4R9rr28q7a2oKOnj4iTfXWCcHmCb46SdaOjydPTxs3OvLzArKStmpGdjZGcjKSpk7i6zNfWytPSxMbIubW7qqewn6aunbO3ocLCvs7Jv8zIv8fEu7/Asri8qLa6pLy8psPAqsC3rsG4tcK8uMO/tMLBrMDBp8C9pcC5oLqupryxsMC3tsS/tcXDrcTDp8G9pL+2',\n",
              " 'https://images.unsplash.com/profile-1559840723720-457a98e628fa?bg=fff&crop=faces&h=32&w=32&auto=format&fit=crop&q=60&ixlib=rb-4.0.3',\n",
              " 'https://images.unsplash.com/photo-1603657289433-e4983d2114b9?q=80&w=1000&auto=format&fit=crop&ixlib=rb-4.0.3&ixid=M3wxMjA3fDB8MHxzZWFyY2h8MjB8fHdpbmVyaWVzfGVufDB8fDB8fHww',\n",
              " 'https://plus.unsplash.com/premium_photo-1663088721462-a4e2c799072d?q=80&w=1000&auto=format&fit=crop&ixlib=rb-4.0.3&ixid=M3wxMjA3fDB8MHxzZWFyY2h8MXx8d2luZXJpZXN8ZW58MHx8MHx8fDA%3D',\n",
              " 'https://images.unsplash.com/photo-1558241665-f0512695d322?q=80&w=1000&auto=format&fit=crop&ixlib=rb-4.0.3&ixid=M3wxMjA3fDB8MHxzZWFyY2h8NHx8d2luZXJpZXN8ZW58MHx8MHx8fDA%3D',\n",
              " 'https://plus.unsplash.com/premium_photo-1683121278910-3d4b21e2a381?q=80&w=1000&auto=format&fit=crop&ixlib=rb-4.0.3&ixid=M3wxMjA3fDB8MHxzZWFyY2h8NXx8d2luZXJpZXN8ZW58MHx8MHx8fDA%3D',\n",
              " 'https://images.unsplash.com/photo-1598306442837-613a3def54ff?q=80&w=1000&auto=format&fit=crop&ixlib=rb-4.0.3&ixid=M3wxMjA3fDB8MHxzZWFyY2h8N3x8d2luZXJpZXN8ZW58MHx8MHx8fDA%3D',\n",
              " 'https://plus.unsplash.com/premium_photo-1663133600411-a10eeef32810?q=80&w=1000&auto=format&fit=crop&ixlib=rb-4.0.3&ixid=M3wxMjA3fDB8MHxzZWFyY2h8OXx8d2luZXJpZXN8ZW58MHx8MHx8fDA%3D',\n",
              " 'https://images.unsplash.com/photo-1574588119566-e838853589ab?q=80&w=1000&auto=format&fit=crop&ixlib=rb-4.0.3&ixid=M3wxMjA3fDB8MHxzZWFyY2h8MTF8fHdpbmVyaWVzfGVufDB8fDB8fHww',\n",
              " 'https://plus.unsplash.com/premium_photo-1663099943934-e237825dac9c?q=80&w=1000&auto=format&fit=crop&ixlib=rb-4.0.3&ixid=M3wxMjA3fDB8MHxzZWFyY2h8MTN8fHdpbmVyaWVzfGVufDB8fDB8fHww',\n",
              " 'https://images.unsplash.com/photo-1558565851-10a41b286adb?q=80&w=1000&auto=format&fit=crop&ixlib=rb-4.0.3&ixid=M3wxMjA3fDB8MHxzZWFyY2h8MTV8fHdpbmVyaWVzfGVufDB8fDB8fHww',\n",
              " 'https://images.unsplash.com/photo-1596991456771-234e380e63bd?q=80&w=1000&auto=format&fit=crop&ixlib=rb-4.0.3&ixid=M3wxMjA3fDB8MHxzZWFyY2h8MTZ8fHdpbmVyaWVzfGVufDB8fDB8fHww',\n",
              " 'https://images.unsplash.com/photo-1605718315811-712fd8297140?q=80&w=1000&auto=format&fit=crop&ixlib=rb-4.0.3&ixid=M3wxMjA3fDB8MHxzZWFyY2h8MTh8fHdpbmVyaWVzfGVufDB8fDB8fHww',\n",
              " 'https://images.unsplash.com/photo-1603657289433-e4983d2114b9?q=80&w=1000&auto=format&fit=crop&ixlib=rb-4.0.3&ixid=M3wxMjA3fDB8MHxzZWFyY2h8MjB8fHdpbmVyaWVzfGVufDB8fDB8fHww',\n",
              " 'https://images.unsplash.com/photo-1552712095-7bf5c609a1be?q=80&w=1000&auto=format&fit=crop&ixlib=rb-4.0.3&ixid=M3wxMjA3fDB8MHxzZWFyY2h8Mnx8d2luZXJpZXN8ZW58MHx8MHx8fDA%3D',\n",
              " 'https://images.unsplash.com/photo-1510812431401-41d2bd2722f3?q=80&w=1000&auto=format&fit=crop&ixlib=rb-4.0.3&ixid=M3wxMjA3fDB8MHxzZWFyY2h8M3x8d2luZXJpZXN8ZW58MHx8MHx8fDA%3D',\n",
              " 'https://images.unsplash.com/photo-1506377247377-2a5b3b417ebb?q=80&w=1000&auto=format&fit=crop&ixlib=rb-4.0.3&ixid=M3wxMjA3fDB8MHxzZWFyY2h8Nnx8d2luZXJpZXN8ZW58MHx8MHx8fDA%3D',\n",
              " 'https://images.unsplash.com/photo-1580175253541-9f67458a3582?q=80&w=1000&auto=format&fit=crop&ixlib=rb-4.0.3&ixid=M3wxMjA3fDB8MHxzZWFyY2h8OHx8d2luZXJpZXN8ZW58MHx8MHx8fDA%3D',\n",
              " 'https://images.unsplash.com/photo-1560286219-d2423ff764e2?q=80&w=1000&auto=format&fit=crop&ixlib=rb-4.0.3&ixid=M3wxMjA3fDB8MHxzZWFyY2h8MTB8fHdpbmVyaWVzfGVufDB8fDB8fHww',\n",
              " 'https://images.unsplash.com/photo-1558138818-d44c4dea7a6a?q=80&w=1000&auto=format&fit=crop&ixlib=rb-4.0.3&ixid=M3wxMjA3fDB8MHxzZWFyY2h8MTJ8fHdpbmVyaWVzfGVufDB8fDB8fHww',\n",
              " 'https://images.unsplash.com/photo-1517792844039-e52afb564132?q=80&w=1000&auto=format&fit=crop&ixlib=rb-4.0.3&ixid=M3wxMjA3fDB8MHxzZWFyY2h8MTR8fHdpbmVyaWVzfGVufDB8fDB8fHww',\n",
              " 'https://plus.unsplash.com/premium_photo-1675727579766-f79e14302cd2?q=80&w=1000&auto=format&fit=crop&ixlib=rb-4.0.3&ixid=M3wxMjA3fDB8MHxzZWFyY2h8MTd8fHdpbmVyaWVzfGVufDB8fDB8fHww',\n",
              " 'https://images.unsplash.com/photo-1511994507217-ab568412b060?q=80&w=1000&auto=format&fit=crop&ixlib=rb-4.0.3&ixid=M3wxMjA3fDB8MHxzZWFyY2h8MTl8fHdpbmVyaWVzfGVufDB8fDB8fHww',\n",
              " 'https://plus.unsplash.com/premium_photo-1663088721462-a4e2c799072d?q=80&w=1000&auto=format&fit=crop&ixlib=rb-4.0.3&ixid=M3wxMjA3fDB8MHxzZWFyY2h8MXx8d2luZXJpZXN8ZW58MHx8MHx8fDA%3D',\n",
              " 'https://plus.unsplash.com/premium_photo-1683121278910-3d4b21e2a381?q=80&w=1000&auto=format&fit=crop&ixlib=rb-4.0.3&ixid=M3wxMjA3fDB8MHxzZWFyY2h8NXx8d2luZXJpZXN8ZW58MHx8MHx8fDA%3D',\n",
              " 'https://plus.unsplash.com/premium_photo-1663133600411-a10eeef32810?q=80&w=1000&auto=format&fit=crop&ixlib=rb-4.0.3&ixid=M3wxMjA3fDB8MHxzZWFyY2h8OXx8d2luZXJpZXN8ZW58MHx8MHx8fDA%3D',\n",
              " 'https://images.unsplash.com/photo-1560286219-d2423ff764e2?q=80&w=1000&auto=format&fit=crop&ixlib=rb-4.0.3&ixid=M3wxMjA3fDB8MHxzZWFyY2h8MTB8fHdpbmVyaWVzfGVufDB8fDB8fHww',\n",
              " 'https://images.unsplash.com/photo-1558138818-d44c4dea7a6a?q=80&w=1000&auto=format&fit=crop&ixlib=rb-4.0.3&ixid=M3wxMjA3fDB8MHxzZWFyY2h8MTJ8fHdpbmVyaWVzfGVufDB8fDB8fHww',\n",
              " 'https://images.unsplash.com/photo-1558565851-10a41b286adb?q=80&w=1000&auto=format&fit=crop&ixlib=rb-4.0.3&ixid=M3wxMjA3fDB8MHxzZWFyY2h8MTV8fHdpbmVyaWVzfGVufDB8fDB8fHww',\n",
              " 'https://plus.unsplash.com/premium_photo-1675727579766-f79e14302cd2?q=80&w=1000&auto=format&fit=crop&ixlib=rb-4.0.3&ixid=M3wxMjA3fDB8MHxzZWFyY2h8MTd8fHdpbmVyaWVzfGVufDB8fDB8fHww',\n",
              " 'https://images.unsplash.com/photo-1552712095-7bf5c609a1be?q=80&w=1000&auto=format&fit=crop&ixlib=rb-4.0.3&ixid=M3wxMjA3fDB8MHxzZWFyY2h8Mnx8d2luZXJpZXN8ZW58MHx8MHx8fDA%3D',\n",
              " 'https://images.unsplash.com/photo-1558241665-f0512695d322?q=80&w=1000&auto=format&fit=crop&ixlib=rb-4.0.3&ixid=M3wxMjA3fDB8MHxzZWFyY2h8NHx8d2luZXJpZXN8ZW58MHx8MHx8fDA%3D',\n",
              " 'https://images.unsplash.com/photo-1598306442837-613a3def54ff?q=80&w=1000&auto=format&fit=crop&ixlib=rb-4.0.3&ixid=M3wxMjA3fDB8MHxzZWFyY2h8N3x8d2luZXJpZXN8ZW58MHx8MHx8fDA%3D',\n",
              " 'https://images.unsplash.com/photo-1574588119566-e838853589ab?q=80&w=1000&auto=format&fit=crop&ixlib=rb-4.0.3&ixid=M3wxMjA3fDB8MHxzZWFyY2h8MTF8fHdpbmVyaWVzfGVufDB8fDB8fHww',\n",
              " 'https://images.unsplash.com/photo-1517792844039-e52afb564132?q=80&w=1000&auto=format&fit=crop&ixlib=rb-4.0.3&ixid=M3wxMjA3fDB8MHxzZWFyY2h8MTR8fHdpbmVyaWVzfGVufDB8fDB8fHww',\n",
              " 'https://images.unsplash.com/photo-1605718315811-712fd8297140?q=80&w=1000&auto=format&fit=crop&ixlib=rb-4.0.3&ixid=M3wxMjA3fDB8MHxzZWFyY2h8MTh8fHdpbmVyaWVzfGVufDB8fDB8fHww',\n",
              " 'https://images.unsplash.com/photo-1603657289433-e4983d2114b9?q=80&w=1000&auto=format&fit=crop&ixlib=rb-4.0.3&ixid=M3wxMjA3fDB8MHxzZWFyY2h8MjB8fHdpbmVyaWVzfGVufDB8fDB8fHww',\n",
              " 'https://images.unsplash.com/photo-1510812431401-41d2bd2722f3?q=80&w=1000&auto=format&fit=crop&ixlib=rb-4.0.3&ixid=M3wxMjA3fDB8MHxzZWFyY2h8M3x8d2luZXJpZXN8ZW58MHx8MHx8fDA%3D',\n",
              " 'https://images.unsplash.com/photo-1506377247377-2a5b3b417ebb?q=80&w=1000&auto=format&fit=crop&ixlib=rb-4.0.3&ixid=M3wxMjA3fDB8MHxzZWFyY2h8Nnx8d2luZXJpZXN8ZW58MHx8MHx8fDA%3D',\n",
              " 'https://images.unsplash.com/photo-1580175253541-9f67458a3582?q=80&w=1000&auto=format&fit=crop&ixlib=rb-4.0.3&ixid=M3wxMjA3fDB8MHxzZWFyY2h8OHx8d2luZXJpZXN8ZW58MHx8MHx8fDA%3D',\n",
              " 'https://plus.unsplash.com/premium_photo-1663099943934-e237825dac9c?q=80&w=1000&auto=format&fit=crop&ixlib=rb-4.0.3&ixid=M3wxMjA3fDB8MHxzZWFyY2h8MTN8fHdpbmVyaWVzfGVufDB8fDB8fHww',\n",
              " 'https://images.unsplash.com/photo-1596991456771-234e380e63bd?q=80&w=1000&auto=format&fit=crop&ixlib=rb-4.0.3&ixid=M3wxMjA3fDB8MHxzZWFyY2h8MTZ8fHdpbmVyaWVzfGVufDB8fDB8fHww',\n",
              " 'https://images.unsplash.com/photo-1511994507217-ab568412b060?q=80&w=1000&auto=format&fit=crop&ixlib=rb-4.0.3&ixid=M3wxMjA3fDB8MHxzZWFyY2h8MTl8fHdpbmVyaWVzfGVufDB8fDB8fHww',\n",
              " 'https://media.istockphoto.com/id/1392483160/photo/black-black-brick-wall.webp?b=1&s=170667a&w=0&k=20&c=-sKqJpMgRiLzvEbR6ZLaQ6EENA2fptcAXbrowoRnVSE=',\n",
              " 'https://media.istockphoto.com/id/490390516/photo/pouring-red-wine.webp?b=1&s=170667a&w=0&k=20&c=Z0gxxmWXL0AgwmWGXoCgSV5WpvPUcg95XSVxJp4fzIo=',\n",
              " 'https://media.istockphoto.com/id/1392483160/photo/black-black-brick-wall.webp?b=1&s=170667a&w=0&k=20&c=-sKqJpMgRiLzvEbR6ZLaQ6EENA2fptcAXbrowoRnVSE=',\n",
              " 'https://media.istockphoto.com/id/490390516/photo/pouring-red-wine.webp?b=1&s=170667a&w=0&k=20&c=Z0gxxmWXL0AgwmWGXoCgSV5WpvPUcg95XSVxJp4fzIo=',\n",
              " 'https://media.istockphoto.com/id/600165322/photo/vineyard.webp?b=1&s=170667a&w=0&k=20&c=c33kLnSCH2E-VpSomFgpRu3kOPSGlj8G-J1XwAuIakk=',\n",
              " 'https://media.istockphoto.com/id/1665833862/photo/mother-and-daughter-relaxing-after-picking-grapes-in-the-vineyard.webp?b=1&s=170667a&w=0&k=20&c=6JFiOeW760nkV4_XHlIqns5MMe27W-sS5vl9CvAvgsE=',\n",
              " 'https://secure.insightexpressai.com/adServer/adServerESI.aspx?script=false&bannerID=11758046&rnd=1699375861968&redir=https://secure.insightexpressai.com/adserver/1pixel.gif']"
            ]
          },
          "metadata": {},
          "execution_count": 7
        }
      ]
    },
    {
      "cell_type": "code",
      "source": [],
      "metadata": {
        "id": "v8Wq96VVsTGs"
      },
      "execution_count": null,
      "outputs": []
    }
  ]
}